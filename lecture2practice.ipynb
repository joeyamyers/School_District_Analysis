{
 "cells": [
  {
   "cell_type": "code",
   "execution_count": 1,
   "id": "dbba5240",
   "metadata": {},
   "outputs": [],
   "source": [
    "import pandas as pd"
   ]
  },
  {
   "cell_type": "code",
   "execution_count": 2,
   "id": "79946c1b",
   "metadata": {},
   "outputs": [],
   "source": [
    "# file = "
   ]
  },
  {
   "cell_type": "code",
   "execution_count": 3,
   "id": "f177f82b",
   "metadata": {},
   "outputs": [],
   "source": [
    "# df = pd.read.csv(file)"
   ]
  },
  {
   "cell_type": "code",
   "execution_count": null,
   "id": "67f9d8f8",
   "metadata": {},
   "outputs": [],
   "source": [
    "# delete a column - don't have to save it to another dataframe, will alow us to do it in same df\n",
    "# del df.fields"
   ]
  }
 ],
 "metadata": {
  "kernelspec": {
   "display_name": "PythonData",
   "language": "python",
   "name": "pythondata"
  },
  "language_info": {
   "codemirror_mode": {
    "name": "ipython",
    "version": 3
   },
   "file_extension": ".py",
   "mimetype": "text/x-python",
   "name": "python",
   "nbconvert_exporter": "python",
   "pygments_lexer": "ipython3",
   "version": "3.9.7"
  }
 },
 "nbformat": 4,
 "nbformat_minor": 5
}
